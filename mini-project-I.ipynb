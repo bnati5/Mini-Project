{
 "cells": [
  {
   "cell_type": "markdown",
   "metadata": {},
   "source": [
    "# Mini-Project I\n",
    "During this project, we will practice handling of complex lists and dictionaries in Python. Plus, we will learn how to work with API documentation. Don't be afraid to search for the information in the [**documentation**](https://api.tfl.gov.uk/swagger/ui/index.html?url=/swagger/docs/v1#!/AccidentStats/AccidentStats_Get).\n",
    "\n",
    "Let's go to the tasks, we have some parsing to do :)!!"
   ]
  },
  {
   "cell_type": "code",
   "execution_count": 22,
   "metadata": {},
   "outputs": [],
   "source": [
    "import requests\n",
    "from IPython.display import JSON"
   ]
  },
  {
   "cell_type": "code",
   "execution_count": 23,
   "metadata": {},
   "outputs": [],
   "source": [
    "# import packages we need (remember what packages we used yesterday during the API session)\n",
    "# IMPORT HERE"
   ]
  },
  {
   "cell_type": "code",
   "execution_count": null,
   "metadata": {},
   "outputs": [],
   "source": []
  },
  {
   "cell_type": "code",
   "execution_count": null,
   "metadata": {},
   "outputs": [],
   "source": []
  },
  {
   "cell_type": "markdown",
   "metadata": {},
   "source": [
    "## Demo"
   ]
  },
  {
   "cell_type": "code",
   "execution_count": 24,
   "metadata": {},
   "outputs": [],
   "source": [
    "# URL\n",
    "url = \"https://api.tfl.gov.uk/AirQuality\""
   ]
  },
  {
   "cell_type": "code",
   "execution_count": 25,
   "metadata": {},
   "outputs": [],
   "source": [
    "# We send the request to the API\n",
    "# NOTE: if you don't have your APP_KEY, run this without the url_append\n",
    "res = requests.get(url)"
   ]
  },
  {
   "cell_type": "code",
   "execution_count": 26,
   "metadata": {},
   "outputs": [
    {
     "data": {
      "text/plain": [
       "200"
      ]
     },
     "execution_count": 26,
     "metadata": {},
     "output_type": "execute_result"
    }
   ],
   "source": [
    "# We can check if the request was successful\n",
    "res.status_code"
   ]
  },
  {
   "cell_type": "code",
   "execution_count": 27,
   "metadata": {},
   "outputs": [],
   "source": [
    "# We can export the information that was returned using method .json()\n",
    "data = res.json()"
   ]
  },
  {
   "cell_type": "code",
   "execution_count": null,
   "metadata": {},
   "outputs": [],
   "source": []
  },
  {
   "cell_type": "markdown",
   "metadata": {},
   "source": [
    "## Task\n",
    "Parse the dictionary and print the AirQuality predictions for tomorrow"
   ]
  },
  {
   "cell_type": "code",
   "execution_count": 28,
   "metadata": {},
   "outputs": [
    {
     "name": "stdout",
     "output_type": "stream",
     "text": [
      "Low air pollution forecast valid from Saturday 19 September to end of Monday 21 September GMT\n"
     ]
    }
   ],
   "source": [
    "print(data['currentForecast'][1]['forecastSummary'])"
   ]
  },
  {
   "cell_type": "code",
   "execution_count": null,
   "metadata": {},
   "outputs": [],
   "source": []
  },
  {
   "cell_type": "markdown",
   "metadata": {},
   "source": [
    "## Task\n",
    "What are the different modes of transport which are operated by Transfer for London? How many of modes do they have?\n",
    "\n",
    "Print the list with different modes of transport, plus their count. Example output:\n",
    "```\n",
    "[bus, cable-car,.....]\n",
    "Number of different modes of transport is: xyz\n",
    "```\n",
    "\n",
    "We need to search the documentation for correct request."
   ]
  },
  {
   "cell_type": "code",
   "execution_count": 29,
   "metadata": {},
   "outputs": [
    {
     "name": "stdout",
     "output_type": "stream",
     "text": [
      "200\n"
     ]
    }
   ],
   "source": [
    "#set url\n",
    "url_mode = 'https://api.tfl.gov.uk/Journey/Meta/Modes'\n",
    "\n",
    "#send request to get all kinds of modes\n",
    "res_mode = requests.get(url_mode)\n",
    "print(res_mode.status_code)"
   ]
  },
  {
   "cell_type": "code",
   "execution_count": 30,
   "metadata": {},
   "outputs": [
    {
     "name": "stdout",
     "output_type": "stream",
     "text": [
      "['black-cab-as-customer', 'black-cab-as-driver', 'bus', 'cable-car', 'coach', 'cycle', 'cycle-hire', 'dlr', 'electric-car', 'goods-vehicle-as-driver', 'interchange-keep-sitting', 'interchange-secure', 'international-rail', 'motorbike-scooter', 'national-rail', 'overground', 'plane', 'private-car', 'private-coach-as-customer', 'private-coach-as-driver', 'private-hire-as-customer', 'private-hire-as-driver', 'replacement-bus', 'river-bus', 'river-tour', 'taxi', 'tflrail', 'tram', 'tube', 'walking']\n",
      "\n",
      "Number of different modes of transport is: 30\n"
     ]
    }
   ],
   "source": [
    "transport = res_mode.json()\n",
    "#collect all modes to a single list\n",
    "modes = [types['modeName'] for types in transport]\n",
    "\n",
    "#print modes\n",
    "print(modes)\n",
    "print(\"\\nNumber of different modes of transport is: {}\".format(len(modes)))"
   ]
  },
  {
   "cell_type": "markdown",
   "metadata": {},
   "source": [
    "## Task\n",
    "How many BikePoints in London are operated by Transfor for London? How many docks are in **all** BikePoints? There is the information for empty and full docks for each BikePoint."
   ]
  },
  {
   "cell_type": "code",
   "execution_count": 31,
   "metadata": {},
   "outputs": [
    {
     "name": "stdout",
     "output_type": "stream",
     "text": [
      "200\n"
     ]
    }
   ],
   "source": [
    "url_bike_points = 'https://api.tfl.gov.uk/BikePoint'\n",
    "res_bike_points = requests.get(url_bike_points)\n",
    "print(res_bike_points.status_code)"
   ]
  },
  {
   "cell_type": "code",
   "execution_count": null,
   "metadata": {},
   "outputs": [],
   "source": []
  },
  {
   "cell_type": "code",
   "execution_count": 32,
   "metadata": {},
   "outputs": [
    {
     "name": "stdout",
     "output_type": "stream",
     "text": [
      "BikePoints in London are operated by Transfor for London: 784\n",
      "Number of Docks in all Bike points: 20853\n"
     ]
    }
   ],
   "source": [
    "bike_points = res_bike_points.json() #parse to dict\n",
    "\n",
    "#print the length of bike_points dict\n",
    "print(\"BikePoints in London are operated by Transfor for London: {}\".format(len(bike_points)))\n",
    "\n",
    "num_docks = 0 #initalize counter\n",
    "\n",
    "for bike_point in bike_points:\n",
    "    for prop in bike_point['additionalProperties']:\n",
    "        #check if the it is the right list\n",
    "        if prop['key'] == \"NbDocks\":\n",
    "            num_docks += int(prop['value']) #add the number of docks to counter\n",
    "            \n",
    "#print the result               \n",
    "print(\"Number of Docks in all Bike points: {}\".format(num_docks))"
   ]
  },
  {
   "cell_type": "markdown",
   "metadata": {},
   "source": [
    "## Task\n",
    "How many tube and bus lines are in London? Print names of all tube lines."
   ]
  },
  {
   "cell_type": "code",
   "execution_count": 33,
   "metadata": {},
   "outputs": [
    {
     "name": "stdout",
     "output_type": "stream",
     "text": [
      "200\n"
     ]
    }
   ],
   "source": [
    "#get tubes and bus lines\n",
    "params = 'tube,bus' #set parameters\n",
    "url_lines = 'https://api.tfl.gov.uk/Line/Mode/{}'.format(params)\n",
    "res_lines = requests.get(url_lines)\n",
    "\n",
    "#check status\n",
    "print(res_lines.status_code)"
   ]
  },
  {
   "cell_type": "code",
   "execution_count": null,
   "metadata": {},
   "outputs": [],
   "source": []
  },
  {
   "cell_type": "code",
   "execution_count": 34,
   "metadata": {},
   "outputs": [
    {
     "name": "stdout",
     "output_type": "stream",
     "text": [
      "Number of all tube lines in London: 11 \n",
      "Number of all bus lines in London: 681\n",
      "Name of all tube lines: ['Bakerloo', 'Central', 'Circle', 'District', 'Hammersmith & City', 'Jubilee', 'Metropolitan', 'Northern', 'Piccadilly', 'Victoria', 'Waterloo & City']\n"
     ]
    }
   ],
   "source": [
    "tube_lines = [lines['name'] for lines in res_lines.json() if lines[\"modeName\"] == \"tube\"] # collect all the names of the tube lines\n",
    "bus_lines = [lines['name'] for lines in res_lines.json() if lines[\"modeName\"] == \"bus\"] # collect all the names of the bus lines\n",
    "\n",
    "\n",
    "print(\"Number of all tube lines in London: {} \\nNumber of all bus lines in London: {}\".format(len(tube_lines),len(bus_lines)))\n",
    "print(\"Name of all tube lines: {}\".format(tube_lines))"
   ]
  },
  {
   "cell_type": "markdown",
   "metadata": {},
   "source": [
    "## Task\n",
    "How many station has `victoria` line?"
   ]
  },
  {
   "cell_type": "code",
   "execution_count": 35,
   "metadata": {},
   "outputs": [
    {
     "name": "stdout",
     "output_type": "stream",
     "text": [
      "200\n"
     ]
    }
   ],
   "source": [
    "params = 'victoria' #set parameters\n",
    "url_station = 'https://api.tfl.gov.uk/Line/{}/StopPoints'.format(params) \n",
    "res_station = requests.get(url_station)\n",
    "print(res_station.status_code)"
   ]
  },
  {
   "cell_type": "code",
   "execution_count": 36,
   "metadata": {},
   "outputs": [
    {
     "name": "stdout",
     "output_type": "stream",
     "text": [
      "Number of stations along victoria line: 16\n"
     ]
    }
   ],
   "source": [
    "print(\"Number of stations along victoria line: {}\".format(len(res_station.json())))"
   ]
  },
  {
   "cell_type": "markdown",
   "metadata": {},
   "source": [
    "## Task\n",
    "Plan the journey from Heathrow Airport to Tower Bridge using Public Transport, Taxi or Bike? Which way is the fastest? Example output:\n",
    "```\n",
    "Planned duration:\n",
    "Public Transport: x minutes\n",
    "Bike: y minutes\n",
    "```\n",
    "\n",
    "We need to search the documentation for correct requests."
   ]
  },
  {
   "cell_type": "code",
   "execution_count": 37,
   "metadata": {},
   "outputs": [],
   "source": [
    "# API key\n",
    "api_file = open(\".api-key.txt\", \"r\")\n",
    "api_key = api_file.readline()\n",
    "api_file.close()\n",
    "\n",
    "#set destination and origin\n",
    "origin = 'Heathrow Airport'\n",
    "dest = 'London Tower Bridge'\n",
    "\n",
    "# set parameters and url\n",
    "url = \"https://maps.googleapis.com/maps/api/distancematrix/json?\"\n",
    "params = \"units=metric&origins={origin}&destinations={dest}&key={api}&\".format(origin=origin,dest= dest,api=api_key)\n",
    "\n",
    "#set a list of modes\n",
    "travel_modes = \"transit bicycling driving\".split()\n",
    "\n",
    "#loop through travel_modes and save them to responses dict\n",
    "responses = {}\n",
    "for mode in travel_modes:\n",
    "    responses[mode] = {\n",
    "                        \"time\":requests.get(url+params+\"mode=\"+mode).json()[\"rows\"][0][\"elements\"][0][\"duration\"][\"text\"],\n",
    "                        \"seconds\":requests.get(url+params+\"mode=\"+mode).json()[\"rows\"][0][\"elements\"][0][\"duration\"][\"value\"]\n",
    "                      }\n"
   ]
  },
  {
   "cell_type": "code",
   "execution_count": 38,
   "metadata": {},
   "outputs": [
    {
     "name": "stdout",
     "output_type": "stream",
     "text": [
      "Driving: 53 mins \n",
      "Public Transport: 1 hour 9 mins \n",
      "Bike: 1 hour 33 mins\n"
     ]
    }
   ],
   "source": [
    "#print all of the travel modes and the duration \n",
    "print(\"Driving: {} \\nPublic Transport: {} \\nBike: {}\"\\\n",
    "      .format(responses['driving']['time'],\n",
    "              responses['transit']['time'], \n",
    "              responses['bicycling']['time']))    "
   ]
  },
  {
   "cell_type": "code",
   "execution_count": 39,
   "metadata": {},
   "outputs": [
    {
     "name": "stdout",
     "output_type": "stream",
     "text": [
      "Fast way(s) to travel: driving\n"
     ]
    }
   ],
   "source": [
    "#get the keys that have the min second values\n",
    "min_value_keys = [key for key,val in responses.items() if val[\"seconds\"] == min(mode[\"seconds\"] \n",
    "                                                                                for mode in responses.values())]\n",
    "\n",
    "#print the fastest ways to travel\n",
    "print(\"Fast way(s) to travel: {}\".format(\",\".join(min_value_keys)))    "
   ]
  },
  {
   "cell_type": "code",
   "execution_count": null,
   "metadata": {},
   "outputs": [],
   "source": []
  },
  {
   "cell_type": "code",
   "execution_count": null,
   "metadata": {},
   "outputs": [],
   "source": []
  }
 ],
 "metadata": {
  "kernelspec": {
   "display_name": "Python 3",
   "language": "python",
   "name": "python3"
  },
  "language_info": {
   "codemirror_mode": {
    "name": "ipython",
    "version": 3
   },
   "file_extension": ".py",
   "mimetype": "text/x-python",
   "name": "python",
   "nbconvert_exporter": "python",
   "pygments_lexer": "ipython3",
   "version": "3.8.5"
  }
 },
 "nbformat": 4,
 "nbformat_minor": 4
}
