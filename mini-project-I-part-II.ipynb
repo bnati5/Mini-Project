{
 "cells": [
  {
   "cell_type": "markdown",
   "metadata": {},
   "source": [
    "## Movies\n",
    "In this part of mini-project, we need to have our API-KEY ready because this API won't work without it.\n",
    "\n",
    "We encourage you to look for correct endpoints in [the documentation](https://developers.themoviedb.org/3/account). We can also play around with requests there before copying them to Python."
   ]
  },
  {
   "cell_type": "code",
   "execution_count": 17,
   "metadata": {},
   "outputs": [],
   "source": [
    "import requests\n",
    "from IPython.display import JSON"
   ]
  },
  {
   "cell_type": "markdown",
   "metadata": {},
   "source": [
    "## Demo"
   ]
  },
  {
   "cell_type": "code",
   "execution_count": 18,
   "metadata": {},
   "outputs": [],
   "source": [
    "base = \"https://api.themoviedb.org/3\"\n",
    "url = \"/search/movie\"\n",
    "\n",
    "query = 'titanic'\n",
    "api_key = '6729a075a652597351574282c8440065'\n",
    "params = f'?query={query}&api_key={api_key}' "
   ]
  },
  {
   "cell_type": "code",
   "execution_count": 19,
   "metadata": {},
   "outputs": [],
   "source": [
    "res = requests.get(base+url+params)"
   ]
  },
  {
   "cell_type": "code",
   "execution_count": 20,
   "metadata": {},
   "outputs": [
    {
     "data": {
      "text/plain": [
       "200"
      ]
     },
     "execution_count": 20,
     "metadata": {},
     "output_type": "execute_result"
    }
   ],
   "source": [
    "res.status_code"
   ]
  },
  {
   "cell_type": "code",
   "execution_count": null,
   "metadata": {},
   "outputs": [],
   "source": []
  },
  {
   "cell_type": "code",
   "execution_count": null,
   "metadata": {},
   "outputs": [],
   "source": []
  },
  {
   "cell_type": "code",
   "execution_count": null,
   "metadata": {},
   "outputs": [],
   "source": []
  },
  {
   "cell_type": "markdown",
   "metadata": {},
   "source": [
    "## Task\n",
    "Search for you favorite movie and return the information about the movie:\n",
    "- name\n",
    "- release date\n",
    "- runtime\n",
    "- revenue\n",
    "- length of the overview\n",
    "- number of votes\n",
    "- voting average"
   ]
  },
  {
   "cell_type": "code",
   "execution_count": 21,
   "metadata": {},
   "outputs": [],
   "source": [
    "#set query and params with best movie ever\n",
    "query = \"WarGames\"\n",
    "params = f'?query={query}&api_key={api_key}' \n",
    "res_movie = requests.get(base+url+params)\n",
    "movie_id = res_movie.json()['results'][0][\"id\"]"
   ]
  },
  {
   "cell_type": "code",
   "execution_count": 22,
   "metadata": {},
   "outputs": [],
   "source": [
    "#set url and params with movie id\n",
    "url = f'/movie/{movie_id}'\n",
    "params = f'?api_key={api_key}' \n",
    "res_best_movie = requests.get(base+url+params)"
   ]
  },
  {
   "cell_type": "code",
   "execution_count": null,
   "metadata": {},
   "outputs": [],
   "source": []
  },
  {
   "cell_type": "code",
   "execution_count": 23,
   "metadata": {},
   "outputs": [
    {
     "name": "stdout",
     "output_type": "stream",
     "text": [
      "name: \t\t\t\tWarGames\n",
      "release date: \t\t\t1983-06-03\n",
      "runtime: \t\t\t114\n",
      "revenue: \t\t\t79567667\n",
      "length of the overview: \t403\n",
      "number of votes: \t\t1086\n",
      "voting average: \t\t7.1\n"
     ]
    }
   ],
   "source": [
    "print(f\"name: \\t\\t\\t\\t{res_best_movie.json()['original_title']}\")\n",
    "print(f\"release date: \\t\\t\\t{res_best_movie.json()['release_date']}\")\n",
    "print(f\"runtime: \\t\\t\\t{res_best_movie.json()['runtime']}\")\n",
    "print(f\"revenue: \\t\\t\\t{res_best_movie.json()['revenue']}\")\n",
    "print(f\"length of the overview: \\t{len(res_best_movie.json()['overview'])}\")\n",
    "print(f\"number of votes: \\t\\t{res_best_movie.json()['vote_count']}\")\n",
    "print(f\"voting average: \\t\\t{res_best_movie.json()['vote_average']}\")"
   ]
  },
  {
   "cell_type": "markdown",
   "metadata": {},
   "source": [
    "## Task\n",
    "Search for you favorite actor/actress and return the information about him/her:\n",
    "- name\n",
    "- date of birth\n",
    "- place of birth\n",
    "- length of the biography"
   ]
  },
  {
   "cell_type": "code",
   "execution_count": 24,
   "metadata": {},
   "outputs": [],
   "source": [
    "#set url, query and params with for actor\n",
    "query = \"benedict cumberbatch\"\n",
    "url = \"/search/person\"\n",
    "params = f'?query={query}&api_key={api_key}' \n",
    "\n",
    "#get send a get request and get the people id\n",
    "res_actor = requests.get(base+url+params)\n",
    "actor_id = res_actor.json()['results'][0][\"id\"]"
   ]
  },
  {
   "cell_type": "code",
   "execution_count": 25,
   "metadata": {},
   "outputs": [],
   "source": [
    "#set url and params with movie id\n",
    "url = f'/person/{actor_id}'\n",
    "params = f'?api_key={api_key}' \n",
    "actor = requests.get(base+url+params)\n",
    "ben = actor.json()"
   ]
  },
  {
   "cell_type": "code",
   "execution_count": 26,
   "metadata": {},
   "outputs": [
    {
     "name": "stdout",
     "output_type": "stream",
     "text": [
      "name: \t\t\t\tBenedict Cumberbatch\n",
      "date of birth: \t\t\t1976-07-19\n",
      "place of birth: \t\tLondon, England, U.K.\n",
      "length of the biography: \t1905\n"
     ]
    }
   ],
   "source": [
    "print(f\"name: \\t\\t\\t\\t{ben['name']}\")\n",
    "print(f\"date of birth: \\t\\t\\t{ben['birthday']}\")\n",
    "print(f\"place of birth: \\t\\t{ben['place_of_birth']}\")\n",
    "print(f\"length of the biography: \\t{len(ben['biography'])}\")"
   ]
  },
  {
   "cell_type": "markdown",
   "metadata": {},
   "source": [
    "## Task\n",
    "Search for you favorite tv-show and return the information about it:\n",
    "- name\n",
    "- first air date\n",
    "- number of seasons\n",
    "- number of episodes\n",
    "- genres"
   ]
  },
  {
   "cell_type": "code",
   "execution_count": 27,
   "metadata": {},
   "outputs": [],
   "source": [
    "#set url, query and params with for TV show\n",
    "query = \"The Boys\"\n",
    "url = \"/search/tv\"\n",
    "params = f'?query={query}&api_key={api_key}' \n",
    "\n",
    "#get send a get request and get the show id\n",
    "res_show = requests.get(base+url+params)\n",
    "show_id = res_show.json()['results'][0][\"id\"]"
   ]
  },
  {
   "cell_type": "code",
   "execution_count": 28,
   "metadata": {},
   "outputs": [],
   "source": [
    "#set url and params with show id\n",
    "url = f'/tv/{show_id}'\n",
    "params = f'?api_key={api_key}' \n",
    "tv = requests.get(base+url+params)\n",
    "show = tv.json()"
   ]
  },
  {
   "cell_type": "code",
   "execution_count": 29,
   "metadata": {},
   "outputs": [
    {
     "name": "stdout",
     "output_type": "stream",
     "text": [
      "name: \t\t\tThe Boys\n",
      "first air date: \t2019-07-25\n",
      "number of seasons: \t2\n",
      "number of episodes: \t16\n",
      "genres: \t\tSci-Fi & Fantasy, Action & Adventure\n"
     ]
    }
   ],
   "source": [
    "print(f\"name: \\t\\t\\t{show['name']}\")\n",
    "print(f\"first air date: \\t{show['first_air_date']}\")\n",
    "print(f\"number of seasons: \\t{show['number_of_seasons']}\")\n",
    "print(f\"number of episodes: \\t{show['number_of_episodes']}\")\n",
    "print(f\"genres: \\t\\t{', '.join([gener['name'] for gener in show['genres']])}\")"
   ]
  },
  {
   "cell_type": "markdown",
   "metadata": {},
   "source": [
    "## Task \n",
    "Find top 5 trending:\n",
    "- movies\n",
    "- tv-shows\n",
    "- people"
   ]
  },
  {
   "cell_type": "code",
   "execution_count": null,
   "metadata": {},
   "outputs": [],
   "source": [
    "\n",
    "    "
   ]
  },
  {
   "cell_type": "code",
   "execution_count": 30,
   "metadata": {},
   "outputs": [
    {
     "name": "stdout",
     "output_type": "stream",
     "text": [
      "Top 5 trending movie:\n",
      "\tMulan\n",
      "\tThe Devil All the Time\n",
      "\tTenet\n",
      "\tThe Babysitter: Killer Queen\n",
      "\tI'm Thinking of Ending Things\n"
     ]
    }
   ],
   "source": [
    "#set url, query and params with trending movies\n",
    "media_type = \"movie\"\n",
    "time_window = \"week\"\n",
    "url = f\"/trending/{media_type}/{time_window}\"\n",
    "params = f'?api_key={api_key}' \n",
    "\n",
    "trending = requests.get(base+url+params).json()\n",
    "\n",
    "data = [val['original_title'] for val in trending['results']]\n",
    "\n",
    "print(\"Top 5 trending {}:\\n\\t{}\".format(media_type, '\\n\\t'.join(data[:5])))"
   ]
  },
  {
   "cell_type": "code",
   "execution_count": 31,
   "metadata": {},
   "outputs": [
    {
     "name": "stdout",
     "output_type": "stream",
     "text": [
      "Top 5 trending tv:\n",
      "\tThe Boys\n",
      "\tRaised by Wolves\n",
      "\tLovecraft Country\n",
      "\tAway\n",
      "\tThe Third Day\n"
     ]
    }
   ],
   "source": [
    "#set url, query and params with trending tv\n",
    "media_type = \"tv\"\n",
    "time_window = \"week\"\n",
    "url = f\"/trending/{media_type}/{time_window}\"\n",
    "params = f'?api_key={api_key}' \n",
    "\n",
    "trending = requests.get(base+url+params).json()\n",
    "\n",
    "data = [val['name'] for val in trending['results']]\n",
    "\n",
    "print(\"Top 5 trending {}:\\n\\t{}\".format(media_type, '\\n\\t'.join(data[:5])))"
   ]
  },
  {
   "cell_type": "code",
   "execution_count": 32,
   "metadata": {},
   "outputs": [
    {
     "name": "stdout",
     "output_type": "stream",
     "text": [
      "Top 5 trending person:\n",
      "\tTom Hanks\n",
      "\tKiril Totev\n",
      "\tChadwick Boseman\n",
      "\tTom Cruise\n",
      "\tChristopher Nolan\n"
     ]
    }
   ],
   "source": [
    "#set url, query and params with trending people\n",
    "media_type = \"person\"\n",
    "time_window = \"week\"\n",
    "url = f\"/trending/{media_type}/{time_window}\"\n",
    "params = f'?api_key={api_key}' \n",
    "\n",
    "trending = requests.get(base+url+params).json()\n",
    "\n",
    "data = [val['name'] for val in trending['results']]\n",
    "\n",
    "print(\"Top 5 trending {}:\\n\\t{}\".format(media_type, '\\n\\t'.join(data[:5])))"
   ]
  },
  {
   "cell_type": "code",
   "execution_count": null,
   "metadata": {},
   "outputs": [],
   "source": []
  }
 ],
 "metadata": {
  "kernelspec": {
   "display_name": "Python 3",
   "language": "python",
   "name": "python3"
  },
  "language_info": {
   "codemirror_mode": {
    "name": "ipython",
    "version": 3
   },
   "file_extension": ".py",
   "mimetype": "text/x-python",
   "name": "python",
   "nbconvert_exporter": "python",
   "pygments_lexer": "ipython3",
   "version": "3.8.5"
  }
 },
 "nbformat": 4,
 "nbformat_minor": 4
}
